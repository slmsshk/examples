{
  "nbformat": 4,
  "nbformat_minor": 0,
  "metadata": {
    "colab": {
      "name": "DS cluster.ipynb",
      "provenance": [],
      "mount_file_id": "1IHQfp90jTym09PvQTLIJpXW5WitiITh6",
      "authorship_tag": "ABX9TyPBfDbLChOgUnlX2YNFWrdg",
      "include_colab_link": true
    },
    "kernelspec": {
      "name": "python3",
      "display_name": "Python 3"
    },
    "language_info": {
      "name": "python"
    }
  },
  "cells": [
    {
      "cell_type": "markdown",
      "metadata": {
        "id": "view-in-github",
        "colab_type": "text"
      },
      "source": [
        "<a href=\"https://colab.research.google.com/github/slmsshk/examples/blob/master/DS_cluster.ipynb\" target=\"_parent\"><img src=\"https://colab.research.google.com/assets/colab-badge.svg\" alt=\"Open In Colab\"/></a>"
      ]
    },
    {
      "cell_type": "markdown",
      "source": [
        "K-means Clustering on Personality test"
      ],
      "metadata": {
        "id": "bELh8ESNBX_E"
      }
    },
    {
      "cell_type": "code",
      "source": [
        "# Importing Libraries\n",
        "import numpy as np\n",
        "import pandas as pd\n",
        "from sklearn.cluster import KMeans\n",
        "from sklearn.decomposition import PCA\n",
        "import matplotlib.pyplot as plt"
      ],
      "metadata": {
        "id": "V7gN7XJMqMDA"
      },
      "execution_count": 38,
      "outputs": []
    },
    {
      "cell_type": "code",
      "source": [
        "# Loading Dataset\n",
        "data=pd.read_csv('/content/drive/MyDrive/GC.csv')"
      ],
      "metadata": {
        "id": "M4ghu5u2rOIu"
      },
      "execution_count": 26,
      "outputs": []
    },
    {
      "cell_type": "code",
      "source": [
        "# Data preview\n",
        "data.head()\n"
      ],
      "metadata": {
        "id": "PDKobbU-rTdc"
      },
      "execution_count": null,
      "outputs": []
    },
    {
      "cell_type": "code",
      "source": [
        "# ds1=fdf[fdf['Batch']=='DS1'].drop(['Batch'],axis=1)\n",
        "# ds2=fdf[fdf['Batch']=='DS2'].drop(['Batch'],axis=1)\n",
        "# Drop unnecessary columns.\n",
        "fdf=data.drop(['Score','Timestamp','Batch','Name'],axis=1)\n",
        "# Store name in another var\n",
        "nme=data['Name']\n",
        "fdf.head()"
      ],
      "metadata": {
        "colab": {
          "base_uri": "https://localhost:8080/",
          "height": 560
        },
        "id": "ApFoARFRAx7-",
        "outputId": "0b750ec9-ca83-425f-e170-305fb97ebd9a"
      },
      "execution_count": 34,
      "outputs": [
        {
          "output_type": "execute_result",
          "data": {
            "text/plain": [
              "   You regularly make new friends.  \\\n",
              "0                                4   \n",
              "1                                1   \n",
              "2                                4   \n",
              "3                                3   \n",
              "4                                5   \n",
              "\n",
              "   You spend a lot of your free time exploring various random topics that pique your interest.  \\\n",
              "0                                                  3                                             \n",
              "1                                                  3                                             \n",
              "2                                                  5                                             \n",
              "3                                                  4                                             \n",
              "4                                                  4                                             \n",
              "\n",
              "   Seeing other people cry can easily make you feel like you want to cry too.  \\\n",
              "0                                                  1                            \n",
              "1                                                  1                            \n",
              "2                                                  3                            \n",
              "3                                                  3                            \n",
              "4                                                  1                            \n",
              "\n",
              "   You often make a backup plan for a backup plan.  \\\n",
              "0                                                2   \n",
              "1                                                5   \n",
              "2                                                5   \n",
              "3                                                4   \n",
              "4                                                4   \n",
              "\n",
              "   You usually stay calm, even under a lot of pressure.  \\\n",
              "0                                                  3      \n",
              "1                                                  2      \n",
              "2                                                  4      \n",
              "3                                                  4      \n",
              "4                                                  1      \n",
              "\n",
              "   At social events, you rarely try to introduce yourself to new people and mostly talk to the ones you already know.  \\\n",
              "0                                                  4                                                                    \n",
              "1                                                  5                                                                    \n",
              "2                                                  3                                                                    \n",
              "3                                                  3                                                                    \n",
              "4                                                  3                                                                    \n",
              "\n",
              "   You prefer to completely finish one project before starting another.  \\\n",
              "0                                                  3                      \n",
              "1                                                  2                      \n",
              "2                                                  5                      \n",
              "3                                                  4                      \n",
              "4                                                  5                      \n",
              "\n",
              "   You are very sentimental.  \\\n",
              "0                          3   \n",
              "1                          3   \n",
              "2                          4   \n",
              "3                          3   \n",
              "4                          2   \n",
              "\n",
              "   You like to use organizing tools like schedules and lists.  \\\n",
              "0                                                  2            \n",
              "1                                                  4            \n",
              "2                                                  5            \n",
              "3                                                  4            \n",
              "4                                                  3            \n",
              "\n",
              "   Even a small mistake can cause you to doubt your overall abilities and knowledge.  \\\n",
              "0                                                  4                                   \n",
              "1                                                  3                                   \n",
              "2                                                  1                                   \n",
              "3                                                  1                                   \n",
              "4                                                  5                                   \n",
              "\n",
              "   ...  \\\n",
              "0  ...   \n",
              "1  ...   \n",
              "2  ...   \n",
              "3  ...   \n",
              "4  ...   \n",
              "\n",
              "   When someone thinks highly of you, you wonder how long it will take them to feel disappointed in you.  \\\n",
              "0                                                  2                                                       \n",
              "1                                                  3                                                       \n",
              "2                                                  3                                                       \n",
              "3                                                  3                                                       \n",
              "4                                                  3                                                       \n",
              "\n",
              "   You would love a job that requires you to work alone most of the time.  \\\n",
              "0                                                  4                        \n",
              "1                                                  4                        \n",
              "2                                                  3                        \n",
              "3                                                  3                        \n",
              "4                                                  5                        \n",
              "\n",
              "   You believe that pondering abstract philosophical questions is a waste of time.  \\\n",
              "0                                                  2                                 \n",
              "1                                                  2                                 \n",
              "2                                                  4                                 \n",
              "3                                                  3                                 \n",
              "4                                                  1                                 \n",
              "\n",
              "   You feel more drawn to places with busy, bustling atmospheres than quiet, intimate places.  \\\n",
              "0                                                  4                                            \n",
              "1                                                  3                                            \n",
              "2                                                  3                                            \n",
              "3                                                  4                                            \n",
              "4                                                  1                                            \n",
              "\n",
              "   You know at first glance how someone is feeling.  \\\n",
              "0                                                 2   \n",
              "1                                                 3   \n",
              "2                                                 3   \n",
              "3                                                 4   \n",
              "4                                                 2   \n",
              "\n",
              "   You often feel overwhelmed.  \\\n",
              "0                            3   \n",
              "1                            3   \n",
              "2                            3   \n",
              "3                            3   \n",
              "4                            4   \n",
              "\n",
              "   You complete things methodically without skipping over any steps.  \\\n",
              "0                                                  4                   \n",
              "1                                                  2                   \n",
              "2                                                  4                   \n",
              "3                                                  4                   \n",
              "4                                                  4                   \n",
              "\n",
              "   You are very intrigued by things labeled as controversial.  \\\n",
              "0                                                  2            \n",
              "1                                                  3            \n",
              "2                                                  2            \n",
              "3                                                  3            \n",
              "4                                                  3            \n",
              "\n",
              "   You would pass along a good opportunity if you thought someone else needed it more.  \\\n",
              "0                                                  4                                     \n",
              "1                                                  4                                     \n",
              "2                                                  4                                     \n",
              "3                                                  3                                     \n",
              "4                                                  5                                     \n",
              "\n",
              "   You struggle with deadlines.  \n",
              "0                             2  \n",
              "1                             5  \n",
              "2                             2  \n",
              "3                             4  \n",
              "4                             5  \n",
              "\n",
              "[5 rows x 59 columns]"
            ],
            "text/html": [
              "\n",
              "  <div id=\"df-81ce8353-c1ec-45dd-b7f7-ad1037f483f1\">\n",
              "    <div class=\"colab-df-container\">\n",
              "      <div>\n",
              "<style scoped>\n",
              "    .dataframe tbody tr th:only-of-type {\n",
              "        vertical-align: middle;\n",
              "    }\n",
              "\n",
              "    .dataframe tbody tr th {\n",
              "        vertical-align: top;\n",
              "    }\n",
              "\n",
              "    .dataframe thead th {\n",
              "        text-align: right;\n",
              "    }\n",
              "</style>\n",
              "<table border=\"1\" class=\"dataframe\">\n",
              "  <thead>\n",
              "    <tr style=\"text-align: right;\">\n",
              "      <th></th>\n",
              "      <th>You regularly make new friends.</th>\n",
              "      <th>You spend a lot of your free time exploring various random topics that pique your interest.</th>\n",
              "      <th>Seeing other people cry can easily make you feel like you want to cry too.</th>\n",
              "      <th>You often make a backup plan for a backup plan.</th>\n",
              "      <th>You usually stay calm, even under a lot of pressure.</th>\n",
              "      <th>At social events, you rarely try to introduce yourself to new people and mostly talk to the ones you already know.</th>\n",
              "      <th>You prefer to completely finish one project before starting another.</th>\n",
              "      <th>You are very sentimental.</th>\n",
              "      <th>You like to use organizing tools like schedules and lists.</th>\n",
              "      <th>Even a small mistake can cause you to doubt your overall abilities and knowledge.</th>\n",
              "      <th>...</th>\n",
              "      <th>When someone thinks highly of you, you wonder how long it will take them to feel disappointed in you.</th>\n",
              "      <th>You would love a job that requires you to work alone most of the time.</th>\n",
              "      <th>You believe that pondering abstract philosophical questions is a waste of time.</th>\n",
              "      <th>You feel more drawn to places with busy, bustling atmospheres than quiet, intimate places.</th>\n",
              "      <th>You know at first glance how someone is feeling.</th>\n",
              "      <th>You often feel overwhelmed.</th>\n",
              "      <th>You complete things methodically without skipping over any steps.</th>\n",
              "      <th>You are very intrigued by things labeled as controversial.</th>\n",
              "      <th>You would pass along a good opportunity if you thought someone else needed it more.</th>\n",
              "      <th>You struggle with deadlines.</th>\n",
              "    </tr>\n",
              "  </thead>\n",
              "  <tbody>\n",
              "    <tr>\n",
              "      <th>0</th>\n",
              "      <td>4</td>\n",
              "      <td>3</td>\n",
              "      <td>1</td>\n",
              "      <td>2</td>\n",
              "      <td>3</td>\n",
              "      <td>4</td>\n",
              "      <td>3</td>\n",
              "      <td>3</td>\n",
              "      <td>2</td>\n",
              "      <td>4</td>\n",
              "      <td>...</td>\n",
              "      <td>2</td>\n",
              "      <td>4</td>\n",
              "      <td>2</td>\n",
              "      <td>4</td>\n",
              "      <td>2</td>\n",
              "      <td>3</td>\n",
              "      <td>4</td>\n",
              "      <td>2</td>\n",
              "      <td>4</td>\n",
              "      <td>2</td>\n",
              "    </tr>\n",
              "    <tr>\n",
              "      <th>1</th>\n",
              "      <td>1</td>\n",
              "      <td>3</td>\n",
              "      <td>1</td>\n",
              "      <td>5</td>\n",
              "      <td>2</td>\n",
              "      <td>5</td>\n",
              "      <td>2</td>\n",
              "      <td>3</td>\n",
              "      <td>4</td>\n",
              "      <td>3</td>\n",
              "      <td>...</td>\n",
              "      <td>3</td>\n",
              "      <td>4</td>\n",
              "      <td>2</td>\n",
              "      <td>3</td>\n",
              "      <td>3</td>\n",
              "      <td>3</td>\n",
              "      <td>2</td>\n",
              "      <td>3</td>\n",
              "      <td>4</td>\n",
              "      <td>5</td>\n",
              "    </tr>\n",
              "    <tr>\n",
              "      <th>2</th>\n",
              "      <td>4</td>\n",
              "      <td>5</td>\n",
              "      <td>3</td>\n",
              "      <td>5</td>\n",
              "      <td>4</td>\n",
              "      <td>3</td>\n",
              "      <td>5</td>\n",
              "      <td>4</td>\n",
              "      <td>5</td>\n",
              "      <td>1</td>\n",
              "      <td>...</td>\n",
              "      <td>3</td>\n",
              "      <td>3</td>\n",
              "      <td>4</td>\n",
              "      <td>3</td>\n",
              "      <td>3</td>\n",
              "      <td>3</td>\n",
              "      <td>4</td>\n",
              "      <td>2</td>\n",
              "      <td>4</td>\n",
              "      <td>2</td>\n",
              "    </tr>\n",
              "    <tr>\n",
              "      <th>3</th>\n",
              "      <td>3</td>\n",
              "      <td>4</td>\n",
              "      <td>3</td>\n",
              "      <td>4</td>\n",
              "      <td>4</td>\n",
              "      <td>3</td>\n",
              "      <td>4</td>\n",
              "      <td>3</td>\n",
              "      <td>4</td>\n",
              "      <td>1</td>\n",
              "      <td>...</td>\n",
              "      <td>3</td>\n",
              "      <td>3</td>\n",
              "      <td>3</td>\n",
              "      <td>4</td>\n",
              "      <td>4</td>\n",
              "      <td>3</td>\n",
              "      <td>4</td>\n",
              "      <td>3</td>\n",
              "      <td>3</td>\n",
              "      <td>4</td>\n",
              "    </tr>\n",
              "    <tr>\n",
              "      <th>4</th>\n",
              "      <td>5</td>\n",
              "      <td>4</td>\n",
              "      <td>1</td>\n",
              "      <td>4</td>\n",
              "      <td>1</td>\n",
              "      <td>3</td>\n",
              "      <td>5</td>\n",
              "      <td>2</td>\n",
              "      <td>3</td>\n",
              "      <td>5</td>\n",
              "      <td>...</td>\n",
              "      <td>3</td>\n",
              "      <td>5</td>\n",
              "      <td>1</td>\n",
              "      <td>1</td>\n",
              "      <td>2</td>\n",
              "      <td>4</td>\n",
              "      <td>4</td>\n",
              "      <td>3</td>\n",
              "      <td>5</td>\n",
              "      <td>5</td>\n",
              "    </tr>\n",
              "  </tbody>\n",
              "</table>\n",
              "<p>5 rows × 59 columns</p>\n",
              "</div>\n",
              "      <button class=\"colab-df-convert\" onclick=\"convertToInteractive('df-81ce8353-c1ec-45dd-b7f7-ad1037f483f1')\"\n",
              "              title=\"Convert this dataframe to an interactive table.\"\n",
              "              style=\"display:none;\">\n",
              "        \n",
              "  <svg xmlns=\"http://www.w3.org/2000/svg\" height=\"24px\"viewBox=\"0 0 24 24\"\n",
              "       width=\"24px\">\n",
              "    <path d=\"M0 0h24v24H0V0z\" fill=\"none\"/>\n",
              "    <path d=\"M18.56 5.44l.94 2.06.94-2.06 2.06-.94-2.06-.94-.94-2.06-.94 2.06-2.06.94zm-11 1L8.5 8.5l.94-2.06 2.06-.94-2.06-.94L8.5 2.5l-.94 2.06-2.06.94zm10 10l.94 2.06.94-2.06 2.06-.94-2.06-.94-.94-2.06-.94 2.06-2.06.94z\"/><path d=\"M17.41 7.96l-1.37-1.37c-.4-.4-.92-.59-1.43-.59-.52 0-1.04.2-1.43.59L10.3 9.45l-7.72 7.72c-.78.78-.78 2.05 0 2.83L4 21.41c.39.39.9.59 1.41.59.51 0 1.02-.2 1.41-.59l7.78-7.78 2.81-2.81c.8-.78.8-2.07 0-2.86zM5.41 20L4 18.59l7.72-7.72 1.47 1.35L5.41 20z\"/>\n",
              "  </svg>\n",
              "      </button>\n",
              "      \n",
              "  <style>\n",
              "    .colab-df-container {\n",
              "      display:flex;\n",
              "      flex-wrap:wrap;\n",
              "      gap: 12px;\n",
              "    }\n",
              "\n",
              "    .colab-df-convert {\n",
              "      background-color: #E8F0FE;\n",
              "      border: none;\n",
              "      border-radius: 50%;\n",
              "      cursor: pointer;\n",
              "      display: none;\n",
              "      fill: #1967D2;\n",
              "      height: 32px;\n",
              "      padding: 0 0 0 0;\n",
              "      width: 32px;\n",
              "    }\n",
              "\n",
              "    .colab-df-convert:hover {\n",
              "      background-color: #E2EBFA;\n",
              "      box-shadow: 0px 1px 2px rgba(60, 64, 67, 0.3), 0px 1px 3px 1px rgba(60, 64, 67, 0.15);\n",
              "      fill: #174EA6;\n",
              "    }\n",
              "\n",
              "    [theme=dark] .colab-df-convert {\n",
              "      background-color: #3B4455;\n",
              "      fill: #D2E3FC;\n",
              "    }\n",
              "\n",
              "    [theme=dark] .colab-df-convert:hover {\n",
              "      background-color: #434B5C;\n",
              "      box-shadow: 0px 1px 3px 1px rgba(0, 0, 0, 0.15);\n",
              "      filter: drop-shadow(0px 1px 2px rgba(0, 0, 0, 0.3));\n",
              "      fill: #FFFFFF;\n",
              "    }\n",
              "  </style>\n",
              "\n",
              "      <script>\n",
              "        const buttonEl =\n",
              "          document.querySelector('#df-81ce8353-c1ec-45dd-b7f7-ad1037f483f1 button.colab-df-convert');\n",
              "        buttonEl.style.display =\n",
              "          google.colab.kernel.accessAllowed ? 'block' : 'none';\n",
              "\n",
              "        async function convertToInteractive(key) {\n",
              "          const element = document.querySelector('#df-81ce8353-c1ec-45dd-b7f7-ad1037f483f1');\n",
              "          const dataTable =\n",
              "            await google.colab.kernel.invokeFunction('convertToInteractive',\n",
              "                                                     [key], {});\n",
              "          if (!dataTable) return;\n",
              "\n",
              "          const docLinkHtml = 'Like what you see? Visit the ' +\n",
              "            '<a target=\"_blank\" href=https://colab.research.google.com/notebooks/data_table.ipynb>data table notebook</a>'\n",
              "            + ' to learn more about interactive tables.';\n",
              "          element.innerHTML = '';\n",
              "          dataTable['output_type'] = 'display_data';\n",
              "          await google.colab.output.renderOutput(dataTable, element);\n",
              "          const docLink = document.createElement('div');\n",
              "          docLink.innerHTML = docLinkHtml;\n",
              "          element.appendChild(docLink);\n",
              "        }\n",
              "      </script>\n",
              "    </div>\n",
              "  </div>\n",
              "  "
            ]
          },
          "metadata": {},
          "execution_count": 34
        }
      ]
    },
    {
      "cell_type": "code",
      "source": [
        "# Dimension Reduction\n",
        "pca = PCA(n_components=20) # it will transform the existing data set into new dimensioans called PCs\n",
        "pca.fit(fdf) \n",
        "data_new = pca.transform(fdf)\n",
        "print(data_new.shape)"
      ],
      "metadata": {
        "id": "1_jld5Fdr1xl",
        "colab": {
          "base_uri": "https://localhost:8080/"
        },
        "outputId": "76bf2336-01dc-4c24-f29d-58a40290ae3f"
      },
      "execution_count": 58,
      "outputs": [
        {
          "output_type": "stream",
          "name": "stdout",
          "text": [
            "(53, 20)\n"
          ]
        }
      ]
    },
    {
      "cell_type": "code",
      "source": [
        "# Scree plot\n",
        "Variance_Explaied=np.cumsum(np.round(pca.explained_variance_ratio_, decimals=4)*100) # cummilative variance\n",
        "plt.plot(Variance_Explaied)\n",
        "plt.xlabel('number of components')\n",
        "plt.ylabel('cumulative explained variance')\n",
        "plt.title('Scree plot')"
      ],
      "metadata": {
        "colab": {
          "base_uri": "https://localhost:8080/",
          "height": 312
        },
        "id": "G8-_esBoGb8K",
        "outputId": "78e44eb1-e0ab-436e-96ef-89cc3466650f"
      },
      "execution_count": 59,
      "outputs": [
        {
          "output_type": "execute_result",
          "data": {
            "text/plain": [
              "Text(0.5, 1.0, 'Scree plot')"
            ]
          },
          "metadata": {},
          "execution_count": 59
        },
        {
          "output_type": "display_data",
          "data": {
            "text/plain": [
              "<Figure size 432x288 with 1 Axes>"
            ],
            "image/png": "[encoded data removed]"
          },
          "metadata": {
            "needs_background": "light"
          }
        }
      ]
    },
    {
      "cell_type": "code",
      "source": [
        "data_new"
      ],
      "metadata": {
        "colab": {
          "base_uri": "https://localhost:8080/"
        },
        "id": "dSDvnrLwIhVD",
        "outputId": "d2776085-95b6-4ba4-c1b0-83ec045e5719"
      },
      "execution_count": 60,
      "outputs": [
        {
          "output_type": "execute_result",
          "data": {
            "text/plain": [
              "array([[ 3.61953227, -0.24785397, -1.20941004, ..., -2.07210024,\n",
              "        -0.80599242,  1.04475064],\n",
              "       [ 1.23976002,  0.1726045 ,  0.87270083, ..., -0.22134003,\n",
              "        -0.17457976,  1.93626093],\n",
              "       [-1.7009949 ,  2.00092447, -0.81366879, ..., -0.09382527,\n",
              "         0.7024306 ,  0.84277857],\n",
              "       ...,\n",
              "       [-3.58643854, -1.28389637,  1.21813174, ...,  2.21064773,\n",
              "         0.35291491,  0.52974667],\n",
              "       [-2.28348043, -0.28432299, -0.56508013, ...,  0.86116065,\n",
              "         2.3424231 , -1.17782755],\n",
              "       [-1.04136852, -1.59511893, -1.46733702, ..., -0.79330221,\n",
              "        -0.28924188,  0.97674217]])"
            ]
          },
          "metadata": {},
          "execution_count": 60
        }
      ]
    },
    {
      "cell_type": "code",
      "source": [
        "# Scree plot for k means\n",
        "SSE =[]\n",
        "for i in range(1, 11):\n",
        "    kmeans = KMeans(n_clusters = i)\n",
        "    kmeans.fit(data_new)\n",
        "    SSE.append(kmeans.inertia_)\n",
        "\n",
        "import matplotlib.pyplot as plt\n",
        "plt.plot(range(1, 11), SSE)\n",
        "plt.title('The elbow method')\n",
        "plt.xlabel('Number of clusters')\n",
        "plt.ylabel('SSE') #within cluster sum of squares\n",
        "plt.show()"
      ],
      "metadata": {
        "id": "S7mZuhSktXO6",
        "colab": {
          "base_uri": "https://localhost:8080/",
          "height": 295
        },
        "outputId": "e89575d7-2834-4b5d-ce2b-e97f28fb75ca"
      },
      "execution_count": 61,
      "outputs": [
        {
          "output_type": "display_data",
          "data": {
            "text/plain": [
              "<Figure size 432x288 with 1 Axes>"
            ],
            "image/png": "[encoded data removed]"
          },
          "metadata": {
            "needs_background": "light"
          }
        }
      ]
    },
    {
      "cell_type": "code",
      "source": [
        "kmeans1 = KMeans(n_clusters=7)\n",
        "d1 = kmeans1.fit_predict(data_new)\n",
        "\n",
        "# ds1['Cluster'] = d1\n",
        "# ds1"
      ],
      "metadata": {
        "id": "AhhkS1QDsqs-"
      },
      "execution_count": 68,
      "outputs": []
    },
    {
      "cell_type": "code",
      "source": [
        "results=pd.DataFrame(nme)\n",
        "results['Cluster']=d1\n",
        "d1"
      ],
      "metadata": {
        "colab": {
          "base_uri": "https://localhost:8080/"
        },
        "id": "4Sb1d552Hlpe",
        "outputId": "b42ae2bd-b018-41cd-a72a-55b756efd357"
      },
      "execution_count": 69,
      "outputs": [
        {
          "output_type": "execute_result",
          "data": {
            "text/plain": [
              "array([1, 1, 1, 0, 6, 1, 5, 6, 1, 1, 1, 1, 1, 0, 1, 3, 0, 1, 1, 2, 5, 1,\n",
              "       3, 1, 1, 1, 1, 1, 0, 1, 0, 1, 2, 4, 6, 0, 0, 1, 1, 5, 2, 2, 0, 0,\n",
              "       0, 5, 5, 0, 6, 6, 5, 3, 0], dtype=int32)"
            ]
          },
          "metadata": {},
          "execution_count": 69
        }
      ]
    },
    {
      "cell_type": "code",
      "source": [
        "results.sort_values('Cluster')"
      ],
      "metadata": {
        "id": "-wRKklUKIudH"
      },
      "execution_count": null,
      "outputs": []
    },
    {
      "cell_type": "code",
      "source": [
        "# Importing libraries\n",
        "import matplotlib.pyplot as plt\n",
        "\n",
        "# Preparing dataset\n",
        "x = [x for x in range(10)]\n",
        "y = [5, 2, 4, 8, 5, 6, 8, 7, 1, 3]\n",
        "text = [\"first\", \"second\", \"third\", \"fourth\", \"fifth\",\n",
        "\t\t\"sixth\", \"seventh\", \"eighth\", \"ninth\", \"tenth\"]\n",
        "\n",
        "# plotting scatter plot\n",
        "plt.scatter(x, y)\n",
        "\n",
        "# Loop for annotation of all points\n",
        "for i in range(len(x)):\n",
        "\tplt.annotate(text[i], (x[i], y[i] + 0.2))\n",
        "\n",
        "# adjusting the scale of the axes\n",
        "plt.xlim((-1, 10))\n",
        "plt.ylim((0, 10))\n",
        "plt.show()\n"
      ],
      "metadata": {
        "colab": {
          "base_uri": "https://localhost:8080/",
          "height": 269
        },
        "id": "oeoDQlHTLw-6",
        "outputId": "cde0f32a-42f5-4e44-fbd5-7fdbf686802f"
      },
      "execution_count": 84,
      "outputs": [
        {
          "output_type": "display_data",
          "data": {
            "text/plain": [
              "<Figure size 432x288 with 1 Axes>"
            ],
            "image/png": "[encoded data removed]"
          },
          "metadata": {
            "needs_background": "light"
          }
        }
      ]
    },
    {
      "cell_type": "code",
      "source": [
        "import matplotlib.pyplot as plt\n",
        "plt.figure(figsize=(15,15))\n",
        "plt.scatter(results.iloc[:, 0], results.iloc[:, 1], c=d1, cmap='rainbow')\n",
        "# Loop for annotation of all points\n",
        "# for i in range(len(nme)):\n",
        "#     plt.annotate(results['Name'][i], (results['Name'][i],results['Cluster'][i]))\n",
        "plt.savefig('ds1.png')\n",
        "plt.show()"
      ],
      "metadata": {
        "colab": {
          "base_uri": "https://localhost:8080/",
          "height": 863
        },
        "id": "5dr9qXYw_eTt",
        "outputId": "5f8f5cad-5358-457e-bb59-b1b3a1600c7c"
      },
      "execution_count": 92,
      "outputs": [
        {
          "output_type": "display_data",
          "data": {
            "text/plain": [
              "<Figure size 1080x1080 with 1 Axes>"
            ],
            "image/png": "[encoded data removed]"
          },
          "metadata": {
            "needs_background": "light"
          }
        }
      ]
    },
    {
      "cell_type": "code",
      "source": [
        "kmeans2 = KMeans(n_clusters=4)\n",
        "d2 = kmeans2.fit_predict(ds2.iloc[:,1:])\n",
        "ds2['Cluster'] = d2"
      ],
      "metadata": {
        "id": "8jDuNCWdxqx9"
      },
      "execution_count": null,
      "outputs": []
    },
    {
      "cell_type": "code",
      "source": [
        "df2=ds2['Name'],ds2['Cluster']\n",
        "df2=DataFrame(df2)"
      ],
      "metadata": {
        "id": "zTDu3QJIuKsL"
      },
      "execution_count": null,
      "outputs": []
    },
    {
      "cell_type": "code",
      "source": [
        "df2.T.sort_values(by='Cluster').set_index('Name')"
      ],
      "metadata": {
        "id": "cAJeI_eFvy3I"
      },
      "execution_count": null,
      "outputs": []
    }
  ]
}